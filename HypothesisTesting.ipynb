{
  "nbformat": 4,
  "nbformat_minor": 0,
  "metadata": {
    "colab": {
      "name": "HypothesisTesting.ipynb",
      "provenance": []
    },
    "kernelspec": {
      "name": "python3",
      "display_name": "Python 3"
    },
    "language_info": {
      "name": "python"
    }
  },
  "cells": [
    {
      "cell_type": "markdown",
      "source": [
        "One sample T-test"
      ],
      "metadata": {
        "id": "5y0l_kR0Rgw8"
      }
    },
    {
      "cell_type": "code",
      "source": [
        "import numpy as np\n",
        "import pandas as pd\n",
        "import matplotlib.pyplot as plt \n",
        "import scipy.stats as stats\n",
        "import math"
      ],
      "metadata": {
        "id": "qC3IyfejRgRa"
      },
      "execution_count": 1,
      "outputs": []
    },
    {
      "cell_type": "code",
      "source": [
        "np.random.seed(6)\n",
        "\n",
        "population_ages1 = stats.poisson.rvs(loc=18, mu=35, size=150000)\n",
        "population_ages2 = stats.poisson.rvs(loc=18, mu=10, size=100000)\n",
        "population_ages = np.concatenate((population_ages1, population_ages2))\n",
        "\n",
        "minnesota_ages1 = stats.poisson.rvs(loc=18, mu=30, size=30)\n",
        "minnesota_ages2 = stats.poisson.rvs(loc=18, mu=10, size=20)\n",
        "minnesota_ages = np.concatenate((minnesota_ages1, minnesota_ages2))\n",
        "\n",
        "print( population_ages.mean() )\n",
        "print( minnesota_ages.mean() )"
      ],
      "metadata": {
        "colab": {
          "base_uri": "https://localhost:8080/"
        },
        "id": "s32rRc3_R7UZ",
        "outputId": "0b0e7537-04f0-4917-fd47-a937316463c5"
      },
      "execution_count": 5,
      "outputs": [
        {
          "output_type": "stream",
          "name": "stdout",
          "text": [
            "43.000112\n",
            "39.26\n"
          ]
        }
      ]
    },
    {
      "cell_type": "code",
      "source": [
        "stats.ttest_1samp(a = minnesota_ages,               # Sample data\n",
        "                 popmean = population_ages.mean())  # Pop mean"
      ],
      "metadata": {
        "colab": {
          "base_uri": "https://localhost:8080/"
        },
        "id": "5zZJGWxTV-kq",
        "outputId": "b09be0a9-521d-45aa-aac7-7362e9678587"
      },
      "execution_count": 6,
      "outputs": [
        {
          "output_type": "execute_result",
          "data": {
            "text/plain": [
              "Ttest_1sampResult(statistic=-2.5742714883655027, pvalue=0.013118685425061678)"
            ]
          },
          "metadata": {},
          "execution_count": 6
        }
      ]
    },
    {
      "cell_type": "markdown",
      "source": [
        "To detect degrees of freedom"
      ],
      "metadata": {
        "id": "SZrZ_xbtW7wE"
      }
    },
    {
      "cell_type": "code",
      "source": [
        "stats.t.ppf(q=0.025,  # Quantile to check\n",
        "            df=49)  # Degrees of freedom"
      ],
      "metadata": {
        "colab": {
          "base_uri": "https://localhost:8080/"
        },
        "id": "jAZg7YIXWDZ6",
        "outputId": "1449bf3f-6193-4733-ebd7-8b9af92d34fc"
      },
      "execution_count": 7,
      "outputs": [
        {
          "output_type": "execute_result",
          "data": {
            "text/plain": [
              "-2.0095752344892093"
            ]
          },
          "metadata": {},
          "execution_count": 7
        }
      ]
    },
    {
      "cell_type": "code",
      "source": [
        ""
      ],
      "metadata": {
        "id": "RzqvS3i9XAWA"
      },
      "execution_count": null,
      "outputs": []
    },
    {
      "cell_type": "markdown",
      "source": [
        ""
      ],
      "metadata": {
        "id": "euyWc63jRfd2"
      }
    }
  ]
}